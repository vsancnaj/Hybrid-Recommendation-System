{
 "cells": [
  {
   "cell_type": "markdown",
   "metadata": {},
   "source": [
    "## Set up Kaggle API"
   ]
  },
  {
   "cell_type": "code",
   "execution_count": 1,
   "metadata": {},
   "outputs": [
    {
     "name": "stdout",
     "output_type": "stream",
     "text": [
      "Note: you may need to restart the kernel to use updated packages.\n"
     ]
    }
   ],
   "source": [
    "%pip install -qU kaggle python-dotenv pandas scikit-learn\n"
   ]
  },
  {
   "cell_type": "code",
   "execution_count": 3,
   "metadata": {},
   "outputs": [
    {
     "name": "stdout",
     "output_type": "stream",
     "text": [
      "Dataset URL: https://www.kaggle.com/datasets/nadyinky/sephora-products-and-skincare-reviews\n",
      "Dataset 'nadyinky/sephora-products-and-skincare-reviews' has been downloaded and extracted to 'data/'\n"
     ]
    }
   ],
   "source": [
    "import os\n",
    "from dotenv import load_dotenv\n",
    "from kaggle.api.kaggle_api_extended import KaggleApi\n",
    "\n",
    "# load environment variables from .env file\n",
    "load_dotenv()\n",
    "\n",
    "kaggle_username = os.getenv('KAGGLE_USERNAME')\n",
    "kaggle_key = os.getenv('KAGGLE_KEY')\n",
    "\n",
    "# authenticate Kaggle API\n",
    "api = KaggleApi()\n",
    "api.authenticate()\n",
    "\n",
    "dataset_name = 'nadyinky/sephora-products-and-skincare-reviews'  \n",
    "download_path = 'data/' \n",
    "\n",
    "# Download dataset\n",
    "api.dataset_download_files(dataset_name, path=download_path, unzip=True)\n",
    "\n",
    "print(f\"Dataset '{dataset_name}' has been downloaded and extracted to '{download_path}'\")"
   ]
  },
  {
   "cell_type": "markdown",
   "metadata": {},
   "source": [
    "## Load Product Data\n",
    "\n",
    "These selected columns from products and reviews are crucial for building an Item-Based Collaborative Filtering + Content-Based Filtering hybrid recommendation system.\n",
    "\n",
    "Each row represents a unique skincare product, with essential features for content-based filtering.\n",
    "\n",
    "Column\tWhy It’s Important?\n",
    "product_id\tUnique identifier for each product. Needed to match with reviews.\n",
    "product_name\tHelps display recommendations and analyze product popularity.\n",
    "brand_name\tSome users may prefer products from specific brands.\n",
    "ingredients\tCore feature for content-based filtering—we’ll use TF-IDF to compute similarity between products based on their ingredients.\n",
    "highlights\tIncludes skincare concerns and attributes (e.g., “Hydrating,” “Anti-Aging”), which are useful for recommending similar products.\n",
    "price_usd\tHelps users filter recommendations based on budget constraints.\n",
    "primary_category, secondary_category, tertiary_category\tHelps group products by skincare type, allowing for better recommendations (e.g., comparing only moisturizers).\n",
    "\n",
    "* Content-Based Filtering: Uses ingredients + highlights to recommend similar products.\n",
    "* Hybrid Model: Helps Item-Based CF refine its recommendations based on product category."
   ]
  },
  {
   "cell_type": "code",
   "execution_count": 4,
   "metadata": {},
   "outputs": [
    {
     "name": "stdout",
     "output_type": "stream",
     "text": [
      "  product_id               product_name brand_name  \\\n",
      "0    P473671    Fragrance Discovery Set      19-69   \n",
      "1    P473668    La Habana Eau de Parfum      19-69   \n",
      "2    P473662  Rainbow Bar Eau de Parfum      19-69   \n",
      "3    P473660       Kasbah Eau de Parfum      19-69   \n",
      "4    P473658  Purple Haze Eau de Parfum      19-69   \n",
      "\n",
      "                                         ingredients  \\\n",
      "0  ['Capri Eau de Parfum:', 'Alcohol Denat. (SD A...   \n",
      "1  ['Alcohol Denat. (SD Alcohol 39C), Parfum (Fra...   \n",
      "2  ['Alcohol Denat. (SD Alcohol 39C), Parfum (Fra...   \n",
      "3  ['Alcohol Denat. (SD Alcohol 39C), Parfum (Fra...   \n",
      "4  ['Alcohol Denat. (SD Alcohol 39C), Parfum (Fra...   \n",
      "\n",
      "                                          highlights  price_usd  \\\n",
      "0  ['Unisex/ Genderless Scent', 'Warm &Spicy Scen...       35.0   \n",
      "1  ['Unisex/ Genderless Scent', 'Layerable Scent'...      195.0   \n",
      "2  ['Unisex/ Genderless Scent', 'Layerable Scent'...      195.0   \n",
      "3  ['Unisex/ Genderless Scent', 'Layerable Scent'...      195.0   \n",
      "4  ['Unisex/ Genderless Scent', 'Layerable Scent'...      195.0   \n",
      "\n",
      "  primary_category secondary_category  tertiary_category  \n",
      "0        Fragrance  Value & Gift Sets  Perfume Gift Sets  \n",
      "1        Fragrance              Women            Perfume  \n",
      "2        Fragrance              Women            Perfume  \n",
      "3        Fragrance              Women            Perfume  \n",
      "4        Fragrance              Women            Perfume  \n"
     ]
    }
   ],
   "source": [
    "import pandas as pd\n",
    "\n",
    "products_df = pd.read_csv(\"data/product_info.csv\")\n",
    "\n",
    "products_df = products_df[[\"product_id\", \"product_name\", \"brand_name\", \"ingredients\", \"highlights\",\n",
    "                           \"price_usd\", \"primary_category\", \"secondary_category\", \"tertiary_category\"]]\n",
    "\n",
    "print(products_df.head())"
   ]
  },
  {
   "cell_type": "markdown",
   "metadata": {},
   "source": [
    "## Load and Combine Review Data\n",
    "\n",
    "Each row represents a user review for a skincare product, which is essential for Item-Based Collaborative Filtering.\n",
    "\n",
    "Column\tWhy It’s Important?\n",
    "author_id\tUnique identifier for each user. Helps build a user-product interaction matrix.\n",
    "product_id\tLinks reviews to products in the product table (needed for collaborative filtering).\n",
    "rating\tExplicit feedback on a scale of 1-5, used to compute product similarity.\n",
    "is_recommended\tCan be used as an additional signal to infer user preference.\n",
    "review_text\tOptional—if included, can be used for sentiment analysis.\n",
    "skin_type\tUseful for personalized recommendations (e.g., recommend only dry skin products to dry skin users).\n",
    "\n",
    "* Item-Based Collaborative Filtering: Uses ratings to compute similarity between products.\n",
    "* Personalization: Skin type can help filter recommendations for users with specific skincare needs."
   ]
  },
  {
   "cell_type": "code",
   "execution_count": 5,
   "metadata": {},
   "outputs": [
    {
     "name": "stdout",
     "output_type": "stream",
     "text": [
      "     author_id product_id  rating  is_recommended  \\\n",
      "0   1741593524    P504322     5.0             1.0   \n",
      "1  31423088263    P420652     1.0             0.0   \n",
      "2   5061282401    P420652     5.0             1.0   \n",
      "3   6083038851    P420652     5.0             1.0   \n",
      "4  47056667835    P420652     5.0             1.0   \n",
      "\n",
      "                                         review_text    skin_type  \n",
      "0  I use this with the Nudestix “Citrus Clean Bal...          dry  \n",
      "1  I bought this lip mask after reading the revie...          NaN  \n",
      "2  My review title says it all! I get so excited ...          dry  \n",
      "3  I’ve always loved this formula for a long time...  combination  \n",
      "4  If you have dry cracked lips, this is a must h...  combination  \n"
     ]
    }
   ],
   "source": [
    "review_files = [\"data/reviews_0-250.csv\", \"data/reviews_250-500.csv\", \"data/reviews_500-750.csv\",\n",
    "                \"data/reviews_750-1250.csv\", \"data/reviews_1250-end.csv\"]\n",
    "\n",
    "# ensures all columns have a consistent format\n",
    "dtype_dict = {\n",
    "    \"author_id\": str,         # Treat user IDs as strings (some IDs may be too large for integers)\n",
    "    \"product_id\": str,        # Product IDs should be strings\n",
    "    \"rating\": float,          # Ratings should be numeric (float)\n",
    "    \"is_recommended\": float,  # Ensure binary values are float\n",
    "    \"review_text\": str,       # Review text should always be a string\n",
    "    \"skin_type\": str          # Skin type should always be a string\n",
    "}\n",
    "\n",
    "# low_memory prevents pandas from guessing column types incorrectly\n",
    "reviews_list = [pd.read_csv(file, dtype=dtype_dict, low_memory=False) for file in review_files]\n",
    "\n",
    "# Concatenate all reviews into a single DataFrame\n",
    "reviews_df = pd.concat(reviews_list, ignore_index=True)\n",
    "\n",
    "# relevant columns\n",
    "reviews_df = reviews_df[[\"author_id\", \"product_id\", \"rating\", \"is_recommended\", \"review_text\", \"skin_type\"]]\n",
    "\n",
    "print(reviews_df.head())"
   ]
  },
  {
   "cell_type": "markdown",
   "metadata": {},
   "source": [
    "## Clean and Process the Data"
   ]
  },
  {
   "cell_type": "code",
   "execution_count": 6,
   "metadata": {},
   "outputs": [],
   "source": [
    "# handling missing ingredient values with an empty string\n",
    "products_df[\"ingredients\"] = products_df[\"ingredients\"].fillna(\"\")\n",
    "reviews_df[\"review_text\"] = reviews_df[\"review_text\"].fillna(\"\")\n",
    "reviews_df[\"skin_type\"] = reviews_df[\"skin_type\"].fillna(\"Unknown\")"
   ]
  },
  {
   "cell_type": "code",
   "execution_count": 7,
   "metadata": {},
   "outputs": [],
   "source": [
    "# normalize text columns\n",
    "products_df[\"ingredients\"] = products_df[\"ingredients\"].str.lower()\n",
    "products_df[\"highlights\"] = products_df[\"highlights\"].str.lower()"
   ]
  },
  {
   "cell_type": "code",
   "execution_count": 8,
   "metadata": {},
   "outputs": [],
   "source": [
    "# convert ratings to numeric\n",
    "reviews_df[\"rating\"] = pd.to_numeric(reviews_df[\"rating\"], errors=\"coerce\")"
   ]
  },
  {
   "cell_type": "markdown",
   "metadata": {},
   "source": [
    "## Build the Content Based Filtering Model"
   ]
  },
  {
   "cell_type": "markdown",
   "metadata": {},
   "source": [
    "### Convert Ingredients & Highlights to TF-IDF Vectors"
   ]
  },
  {
   "cell_type": "code",
   "execution_count": 9,
   "metadata": {},
   "outputs": [
    {
     "name": "stdout",
     "output_type": "stream",
     "text": [
      "(8494, 8973)\n"
     ]
    }
   ],
   "source": [
    "from sklearn.feature_extraction.text import TfidfVectorizer\n",
    "\n",
    "# Ensure 'ingredients' and 'highlights' exist before combining\n",
    "products_df[\"ingredients\"] = products_df[\"ingredients\"].fillna(\"\")\n",
    "products_df[\"highlights\"] = products_df[\"highlights\"].fillna(\"\")\n",
    "\n",
    "# Create the 'combined_features' column\n",
    "products_df[\"combined_features\"] = products_df[\"ingredients\"] + \" \" + products_df[\"highlights\"]\n",
    "\n",
    "# Now fill NaN values for safety\n",
    "products_df[\"combined_features\"] = products_df[\"combined_features\"].fillna(\"\")\n",
    "\n",
    "# Convert text to TF-IDF matrix\n",
    "tfidf_vectorizer = TfidfVectorizer(stop_words=\"english\")\n",
    "tfidf_matrix = tfidf_vectorizer.fit_transform(products_df[\"combined_features\"])\n",
    "\n",
    "# Check shape\n",
    "print(tfidf_matrix.shape)"
   ]
  },
  {
   "cell_type": "markdown",
   "metadata": {},
   "source": [
    "### Compute Cosine Similarity"
   ]
  },
  {
   "cell_type": "code",
   "execution_count": 10,
   "metadata": {},
   "outputs": [
    {
     "name": "stdout",
     "output_type": "stream",
     "text": [
      "product_id   P473671   P473668   P473662   P473660   P473658   P473661  \\\n",
      "product_id                                                               \n",
      "P473671     1.000000  0.749470  0.745681  0.744664  0.717759  0.744664   \n",
      "P473668     0.749470  1.000000  0.749865  0.868884  0.703762  0.868884   \n",
      "P473662     0.745681  0.749865  1.000000  0.865095  0.871173  0.865095   \n",
      "P473660     0.744664  0.868884  0.865095  1.000000  0.797130  1.000000   \n",
      "P473658     0.717759  0.703762  0.871173  0.797130  1.000000  0.797130   \n",
      "\n",
      "product_id   P473659   P473666   P472300   P473667  ...   P467660  P306857  \\\n",
      "product_id                                          ...                      \n",
      "P473671     0.717759  0.673687  0.757190  0.673687  ...  0.029302      0.0   \n",
      "P473668     0.703762  0.708656  0.742881  0.708656  ...  0.028391      0.0   \n",
      "P473662     0.871173  0.643791  0.779213  0.643791  ...  0.012342      0.0   \n",
      "P473660     0.797130  0.665166  0.769431  0.665166  ...  0.012752      0.0   \n",
      "P473658     1.000000  0.620139  0.733708  0.620139  ...  0.011889      0.0   \n",
      "\n",
      "product_id   P457262   P501330   P504430  P467659   P500874   P504428  \\\n",
      "product_id                                                              \n",
      "P473671     0.433848  0.223241  0.361375      0.0  0.342041  0.411770   \n",
      "P473668     0.505176  0.213511  0.275863      0.0  0.379537  0.322351   \n",
      "P473662     0.520714  0.149405  0.246413      0.0  0.506017  0.287036   \n",
      "P473660     0.511454  0.144670  0.214926      0.0  0.381917  0.286923   \n",
      "P473658     0.434207  0.110305  0.202049      0.0  0.418320  0.260012   \n",
      "\n",
      "product_id   P504448   P505461  \n",
      "product_id                      \n",
      "P473671     0.314814  0.028818  \n",
      "P473668     0.269152  0.012158  \n",
      "P473662     0.229996  0.013275  \n",
      "P473660     0.237632  0.013716  \n",
      "P473658     0.201259  0.012788  \n",
      "\n",
      "[5 rows x 8494 columns]\n"
     ]
    }
   ],
   "source": [
    "from sklearn.metrics.pairwise import cosine_similarity\n",
    "\n",
    "# Compute similarity scores between products\n",
    "cosine_sim = cosine_similarity(tfidf_matrix, tfidf_matrix)\n",
    "\n",
    "# Convert similarity matrix to DataFrame\n",
    "cosine_sim_df = pd.DataFrame(cosine_sim, index=products_df[\"product_id\"], columns=products_df[\"product_id\"])\n",
    "\n",
    "# Check similarity for a product\n",
    "print(cosine_sim_df.head())"
   ]
  },
  {
   "cell_type": "markdown",
   "metadata": {},
   "source": [
    "## Build the Item-Based Collaborative Filtering Model"
   ]
  },
  {
   "cell_type": "markdown",
   "metadata": {},
   "source": [
    "### Create User-Product Rating Matrix"
   ]
  },
  {
   "cell_type": "code",
   "execution_count": 11,
   "metadata": {},
   "outputs": [
    {
     "name": "stdout",
     "output_type": "stream",
     "text": [
      "(2351, 503216)\n"
     ]
    }
   ],
   "source": [
    "# \"Index contains duplicate entries, cannot reshape\"\n",
    "# aggregate by taking the mean rating per (product_id, author_id)\n",
    "reviews_df = reviews_df.groupby([\"product_id\", \"author_id\"], as_index=False).agg({\"rating\": \"mean\"})\n",
    "\n",
    "# Now pivot the table\n",
    "user_product_matrix = reviews_df.pivot(index=\"product_id\", columns=\"author_id\", values=\"rating\")\n",
    "\n",
    "# Fill missing values with 0 (unrated products)\n",
    "user_product_matrix = user_product_matrix.fillna(0)\n",
    "\n",
    "print(user_product_matrix.shape)"
   ]
  },
  {
   "cell_type": "markdown",
   "metadata": {},
   "source": [
    "### Compute Product Similarity"
   ]
  },
  {
   "cell_type": "code",
   "execution_count": 12,
   "metadata": {},
   "outputs": [
    {
     "name": "stdout",
     "output_type": "stream",
     "text": [
      "product_id   P107306   P114902    P12045   P122651   P122661   P122718  \\\n",
      "product_id                                                               \n",
      "P107306     1.000000  0.001792  0.003287  0.000000  0.000582  0.000000   \n",
      "P114902     0.001792  1.000000  0.005654  0.000000  0.003570  0.008067   \n",
      "P12045      0.003287  0.005654  1.000000  0.001163  0.001090  0.005243   \n",
      "P122651     0.000000  0.000000  0.001163  1.000000  0.022310  0.006326   \n",
      "P122661     0.000582  0.003570  0.001090  0.022310  1.000000  0.033923   \n",
      "\n",
      "product_id   P122727   P122762   P122767   P122774  ...    P54509     P6028  \\\n",
      "product_id                                          ...                       \n",
      "P107306     0.004229  0.002202  0.000000  0.002752  ...  0.002027  0.008101   \n",
      "P114902     0.000000  0.003998  0.000526  0.008915  ...  0.001398  0.005952   \n",
      "P12045      0.000000  0.004006  0.000000  0.002525  ...  0.003766  0.026335   \n",
      "P122651     0.000000  0.007804  0.000000  0.013150  ...  0.003443  0.012123   \n",
      "P122661     0.005527  0.031327  0.020154  0.024489  ...  0.000000  0.004824   \n",
      "\n",
      "product_id     P7365     P7880  P91627362    P94421    P94812     P9939  \\\n",
      "product_id                                                                \n",
      "P107306     0.005753  0.006339   0.000000  0.006688  0.009846  0.009296   \n",
      "P114902     0.005603  0.005597   0.002872  0.007425  0.003559  0.003009   \n",
      "P12045      0.000000  0.015014   0.002851  0.020808  0.002532  0.002752   \n",
      "P122651     0.000805  0.003646   0.000000  0.000000  0.000000  0.000000   \n",
      "P122661     0.001626  0.006253   0.002238  0.003513  0.007207  0.000000   \n",
      "\n",
      "product_id     P9940     P9941  \n",
      "product_id                      \n",
      "P107306     0.013440  0.013280  \n",
      "P114902     0.003390  0.006045  \n",
      "P12045      0.004839  0.003407  \n",
      "P122651     0.000244  0.004471  \n",
      "P122661     0.003390  0.000000  \n",
      "\n",
      "[5 rows x 2351 columns]\n"
     ]
    }
   ],
   "source": [
    "# Compute cosine similarity between products based on user ratings\n",
    "item_similarity = cosine_similarity(user_product_matrix)\n",
    "\n",
    "# Convert to DataFrame\n",
    "item_sim_df = pd.DataFrame(item_similarity, index=user_product_matrix.index, columns=user_product_matrix.index)\n",
    "\n",
    "# Check product similarity\n",
    "print(item_sim_df.head())"
   ]
  },
  {
   "cell_type": "markdown",
   "metadata": {},
   "source": [
    "## Hybrid Recommender – Combining Both Models"
   ]
  },
  {
   "cell_type": "code",
   "execution_count": 13,
   "metadata": {},
   "outputs": [],
   "source": [
    "# Find missing products\n",
    "missing_products = list(set(cosine_sim_df.index) - set(item_sim_df.index))\n",
    "\n",
    "# Create a DataFrame with zeros for missing products\n",
    "missing_sim_matrix = pd.DataFrame(0, index=missing_products, columns=item_sim_df.columns)\n",
    "\n",
    "# Append to the collaborative filtering similarity matrix\n",
    "item_sim_df = pd.concat([item_sim_df, missing_sim_matrix])\n",
    "\n",
    "# Now add missing products as columns (ensuring symmetry)\n",
    "missing_sim_matrix = pd.DataFrame(0, index=item_sim_df.index, columns=missing_products)\n",
    "item_sim_df = pd.concat([item_sim_df, missing_sim_matrix], axis=1)\n",
    "\n",
    "# Sort rows and columns to match content-based filtering\n",
    "item_sim_df = item_sim_df.loc[cosine_sim_df.index, cosine_sim_df.index]"
   ]
  },
  {
   "cell_type": "code",
   "execution_count": 14,
   "metadata": {},
   "outputs": [
    {
     "name": "stdout",
     "output_type": "stream",
     "text": [
      "Products in CF but missing in Content-Based: 0\n",
      "Products in Content-Based but missing in CF: 0\n"
     ]
    }
   ],
   "source": [
    "# Get product IDs in each matrix\n",
    "content_products = set(cosine_sim_df.index)\n",
    "cf_products = set(item_sim_df.index)\n",
    "\n",
    "# Find missing products in each matrix\n",
    "missing_in_content = cf_products - content_products\n",
    "missing_in_cf = content_products - cf_products\n",
    "\n",
    "print(f\"Products in CF but missing in Content-Based: {len(missing_in_content)}\")\n",
    "print(f\"Products in Content-Based but missing in CF: {len(missing_in_cf)}\")"
   ]
  },
  {
   "cell_type": "code",
   "execution_count": 15,
   "metadata": {},
   "outputs": [
    {
     "name": "stdout",
     "output_type": "stream",
     "text": [
      "product_id   P473671   P473668   P473662   P473660   P473658   P473661  \\\n",
      "product_id                                                               \n",
      "P473671     0.700000  0.524629  0.521977  0.521265  0.502432  0.521265   \n",
      "P473668     0.524629  0.700000  0.524906  0.608219  0.492633  0.608219   \n",
      "P473662     0.521977  0.524906  0.700000  0.605566  0.609821  0.605566   \n",
      "P473660     0.521265  0.608219  0.605566  0.700000  0.557991  0.700000   \n",
      "P473658     0.502432  0.492633  0.609821  0.557991  0.700000  0.557991   \n",
      "\n",
      "product_id   P473659   P473666   P472300   P473667  ...   P467660  P306857  \\\n",
      "product_id                                          ...                      \n",
      "P473671     0.502432  0.471581  0.530033  0.471581  ...  0.020511      0.0   \n",
      "P473668     0.492633  0.496059  0.520016  0.496059  ...  0.019873      0.0   \n",
      "P473662     0.609821  0.450654  0.545449  0.450654  ...  0.008639      0.0   \n",
      "P473660     0.557991  0.465616  0.538602  0.465616  ...  0.008926      0.0   \n",
      "P473658     0.700000  0.434097  0.513595  0.434097  ...  0.008322      0.0   \n",
      "\n",
      "product_id   P457262   P501330   P504430  P467659   P500874   P504428  \\\n",
      "product_id                                                              \n",
      "P473671     0.303694  0.156269  0.252962      0.0  0.239429  0.288239   \n",
      "P473668     0.353623  0.149458  0.193104      0.0  0.265676  0.225646   \n",
      "P473662     0.364500  0.104583  0.172489      0.0  0.354212  0.200925   \n",
      "P473660     0.358018  0.101269  0.150448      0.0  0.267342  0.200846   \n",
      "P473658     0.303945  0.077214  0.141434      0.0  0.292824  0.182008   \n",
      "\n",
      "product_id   P504448   P505461  \n",
      "product_id                      \n",
      "P473671     0.220370  0.020173  \n",
      "P473668     0.188407  0.008511  \n",
      "P473662     0.160997  0.009293  \n",
      "P473660     0.166343  0.009601  \n",
      "P473658     0.140881  0.008951  \n",
      "\n",
      "[5 rows x 8494 columns]\n"
     ]
    }
   ],
   "source": [
    "alpha = 0.7  # Weight for Content-Based Filtering (higher means more importance)\n",
    "hybrid_sim = (alpha * cosine_sim_df) + ((1 - alpha) * item_sim_df)\n",
    "\n",
    "# Check hybrid similarity scores\n",
    "print(hybrid_sim.head())"
   ]
  },
  {
   "cell_type": "markdown",
   "metadata": {},
   "source": [
    "## Making Product Recommendations"
   ]
  },
  {
   "cell_type": "code",
   "execution_count": 16,
   "metadata": {},
   "outputs": [
    {
     "data": {
      "text/plain": [
       "3716    P417222\n",
       "4426    P504465\n",
       "6160    P378660\n",
       "8467    P500265\n",
       "1934    P416366\n",
       "Name: product_id, dtype: object"
      ]
     },
     "execution_count": 16,
     "metadata": {},
     "output_type": "execute_result"
    }
   ],
   "source": [
    "products_df[\"product_id\"].sample(5)"
   ]
  },
  {
   "cell_type": "code",
   "execution_count": 17,
   "metadata": {},
   "outputs": [
    {
     "data": {
      "text/html": [
       "<div>\n",
       "<style scoped>\n",
       "    .dataframe tbody tr th:only-of-type {\n",
       "        vertical-align: middle;\n",
       "    }\n",
       "\n",
       "    .dataframe tbody tr th {\n",
       "        vertical-align: top;\n",
       "    }\n",
       "\n",
       "    .dataframe thead th {\n",
       "        text-align: right;\n",
       "    }\n",
       "</style>\n",
       "<table border=\"1\" class=\"dataframe\">\n",
       "  <thead>\n",
       "    <tr style=\"text-align: right;\">\n",
       "      <th></th>\n",
       "      <th>product_name</th>\n",
       "      <th>brand_name</th>\n",
       "      <th>price_usd</th>\n",
       "    </tr>\n",
       "  </thead>\n",
       "  <tbody>\n",
       "    <tr>\n",
       "      <th>2</th>\n",
       "      <td>Rainbow Bar Eau de Parfum</td>\n",
       "      <td>19-69</td>\n",
       "      <td>195.0</td>\n",
       "    </tr>\n",
       "    <tr>\n",
       "      <th>3</th>\n",
       "      <td>Kasbah Eau de Parfum</td>\n",
       "      <td>19-69</td>\n",
       "      <td>195.0</td>\n",
       "    </tr>\n",
       "    <tr>\n",
       "      <th>5</th>\n",
       "      <td>Kasbah Eau de Parfum Travel Spray</td>\n",
       "      <td>19-69</td>\n",
       "      <td>30.0</td>\n",
       "    </tr>\n",
       "    <tr>\n",
       "      <th>6</th>\n",
       "      <td>Purple Haze Eau de Parfum Travel Spray</td>\n",
       "      <td>19-69</td>\n",
       "      <td>30.0</td>\n",
       "    </tr>\n",
       "    <tr>\n",
       "      <th>10</th>\n",
       "      <td>Rainbow Bar Eau de Parfum Travel Spray</td>\n",
       "      <td>19-69</td>\n",
       "      <td>30.0</td>\n",
       "    </tr>\n",
       "  </tbody>\n",
       "</table>\n",
       "</div>"
      ],
      "text/plain": [
       "                              product_name brand_name  price_usd\n",
       "2                Rainbow Bar Eau de Parfum      19-69      195.0\n",
       "3                     Kasbah Eau de Parfum      19-69      195.0\n",
       "5        Kasbah Eau de Parfum Travel Spray      19-69       30.0\n",
       "6   Purple Haze Eau de Parfum Travel Spray      19-69       30.0\n",
       "10  Rainbow Bar Eau de Parfum Travel Spray      19-69       30.0"
      ]
     },
     "execution_count": 17,
     "metadata": {},
     "output_type": "execute_result"
    }
   ],
   "source": [
    "def recommend_products(product_id, num_recommendations=5):\n",
    "    # get product similarity scores\n",
    "    scores = hybrid_sim[product_id].sort_values(ascending=False)\n",
    "    \n",
    "    # exclude itself from recommendations\n",
    "    recommended_products = scores.iloc[1:num_recommendations+1]\n",
    "    \n",
    "    # merge with product info\n",
    "    return products_df[products_df[\"product_id\"].isin(recommended_products.index)][[\"product_name\", \"brand_name\", \"price_usd\"]]\n",
    "\n",
    "# recommend similar products for a given product ID\n",
    "recommend_products(\"P473658\") "
   ]
  },
  {
   "cell_type": "markdown",
   "metadata": {},
   "source": [
    "## Save the Trained Models"
   ]
  },
  {
   "cell_type": "code",
   "execution_count": 33,
   "metadata": {},
   "outputs": [],
   "source": [
    "import pickle\n",
    "\n",
    "# Save the hybrid similarity matrix\n",
    "with open(\"hybrid_similarity.pkl\", \"wb\") as file:\n",
    "    pickle.dump(hybrid_sim, file)\n",
    "\n",
    "# Save product metadata for lookup\n",
    "products_df.to_csv(\"metadata/products.csv\", index=False)"
   ]
  }
 ],
 "metadata": {
  "kernelspec": {
   "display_name": "skincare",
   "language": "python",
   "name": "python3"
  },
  "language_info": {
   "codemirror_mode": {
    "name": "ipython",
    "version": 3
   },
   "file_extension": ".py",
   "mimetype": "text/x-python",
   "name": "python",
   "nbconvert_exporter": "python",
   "pygments_lexer": "ipython3",
   "version": "3.13.1"
  }
 },
 "nbformat": 4,
 "nbformat_minor": 2
}
